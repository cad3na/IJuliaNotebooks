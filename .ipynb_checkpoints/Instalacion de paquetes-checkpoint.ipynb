{
 "metadata": {
  "language": "Julia",
  "name": "",
  "signature": "sha256:69b258211960309233ff7ec494d6046c6aa7e5fcad810aa1c3096798c4a66aeb"
 },
 "nbformat": 3,
 "nbformat_minor": 0,
 "worksheets": [
  {
   "cells": [
    {
     "cell_type": "markdown",
     "metadata": {},
     "source": [
      "Este notebook contiene las instrucciones para instalar los paquetes que utilizo en Julia.\n",
      "\n",
      "Antes de ejecutar este notebook, obviamente hay que instalar IPython y IJulia, ejecutando desde julia:\n",
      "\n",
      "```julia\n",
      "Pkg.add(\"IJulia\")\n",
      "```\n",
      "\n",
      "Primero actualizamos las fuentes de los paquetes (tambien actualiza cualquier paquete instalado):"
     ]
    },
    {
     "cell_type": "code",
     "collapsed": false,
     "input": [
      "Pkg.update()"
     ],
     "language": "python",
     "metadata": {},
     "outputs": [
      {
       "output_type": "stream",
       "stream": "stderr",
       "text": [
        "INFO: Updating METADATA..."
       ]
      },
      {
       "output_type": "stream",
       "stream": "stderr",
       "text": [
        "\n"
       ]
      },
      {
       "output_type": "stream",
       "stream": "stderr",
       "text": [
        "INFO: Updating Processing..."
       ]
      },
      {
       "output_type": "stream",
       "stream": "stderr",
       "text": [
        "\n"
       ]
      },
      {
       "output_type": "stream",
       "stream": "stderr",
       "text": [
        "INFO: Computing changes..."
       ]
      },
      {
       "output_type": "stream",
       "stream": "stderr",
       "text": [
        "\n",
        "INFO: "
       ]
      },
      {
       "output_type": "stream",
       "stream": "stderr",
       "text": [
        "No packages to install, update or remove.\n"
       ]
      }
     ],
     "prompt_number": 3
    },
    {
     "cell_type": "markdown",
     "metadata": {},
     "source": [
      "Instalamos los paquetes:"
     ]
    },
    {
     "cell_type": "code",
     "collapsed": false,
     "input": [
      "Pkg.add(\"Gadfly\")\n",
      "Pkg.clone(\"Processing\")\n",
      "Pkg.add(\"Arduino\")"
     ],
     "language": "python",
     "metadata": {},
     "outputs": [
      {
       "output_type": "stream",
       "stream": "stderr",
       "text": [
        "INFO: Nothing to be done."
       ]
      },
      {
       "output_type": "stream",
       "stream": "stderr",
       "text": [
        "\n",
        "INFO: Cloning Processing from git://github.com/rennis250/Processing.jl.git\n"
       ]
      },
      {
       "ename": "LoadError",
       "evalue": "Processing already exists\nat In[4]:2",
       "output_type": "pyerr",
       "traceback": [
        "Processing already exists\nat In[4]:2",
        " in clone at pkg/entry.jl:125",
        " in clone at pkg/entry.jl:150",
        " in anonymous at pkg/dir.jl:28",
        " in cd at file.jl:22",
        " in cd at pkg/dir.jl:28",
        " in clone at pkg.jl:29"
       ]
      }
     ],
     "prompt_number": 4
    },
    {
     "cell_type": "code",
     "collapsed": false,
     "input": [],
     "language": "python",
     "metadata": {},
     "outputs": []
    }
   ],
   "metadata": {}
  }
 ]
}