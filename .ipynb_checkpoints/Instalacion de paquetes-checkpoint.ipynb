{
 "metadata": {
  "language": "Julia",
  "name": "",
  "signature": "sha256:bc49fb2fdf64d274940d885593402b4e310f393746d00182cbf69ba34f1a7f58"
 },
 "nbformat": 3,
 "nbformat_minor": 0,
 "worksheets": [
  {
   "cells": [
    {
     "cell_type": "markdown",
     "metadata": {},
     "source": [
      "Este notebook contiene las instrucciones para instalar los paquetes que utilizo en Julia.\n",
      "\n",
      "Antes de ejecutar este notebook, obviamente hay que instalar IPython y IJulia, ejecutando desde julia:\n",
      "\n",
      "```julia\n",
      "Pkg.add(\"IJulia\")\n",
      "```\n",
      "\n",
      "Primero actualizamos las fuentes de los paquetes (tambien actualiza cualquier paquete instalado):"
     ]
    },
    {
     "cell_type": "code",
     "collapsed": false,
     "input": [
      "Pkg.update()"
     ],
     "language": "python",
     "metadata": {},
     "outputs": [
      {
       "output_type": "stream",
       "stream": "stderr",
       "text": [
        "INFO: Updating METADATA...\n"
       ]
      },
      {
       "output_type": "stream",
       "stream": "stderr",
       "text": [
        "INFO: Computing changes...\n"
       ]
      },
      {
       "output_type": "stream",
       "stream": "stderr",
       "text": [
        "INFO: No packages to install, update or remove\n"
       ]
      }
     ],
     "prompt_number": 1
    },
    {
     "cell_type": "markdown",
     "metadata": {},
     "source": [
      "Instalamos los paquetes:"
     ]
    },
    {
     "cell_type": "code",
     "collapsed": false,
     "input": [
      "Pkg.add(\"Gadfly\")\n",
      "Pkg.clone(\"Processing\")\n",
      "Pkg.add(\"Arduino\")"
     ],
     "language": "python",
     "metadata": {},
     "outputs": [
      {
       "output_type": "stream",
       "stream": "stderr",
       "text": [
        "INFO: Cloning cache of ArrayViews from git://github.com/lindahua/ArrayViews.jl.git\n"
       ]
      },
      {
       "output_type": "stream",
       "stream": "stderr",
       "text": [
        "INFO: Cloning cache of Codecs from git://github.com/dcjones/Codecs.jl.git\n"
       ]
      },
      {
       "output_type": "stream",
       "stream": "stderr",
       "text": [
        "INFO: Cloning cache of Color from git://github.com/JuliaLang/Color.jl.git\n"
       ]
      },
      {
       "output_type": "stream",
       "stream": "stderr",
       "text": [
        "INFO: Cloning cache of Compose from git://github.com/dcjones/Compose.jl.git\n"
       ]
      },
      {
       "output_type": "stream",
       "stream": "stderr",
       "text": [
        "INFO: Cloning cache of Contour from git://github.com/tlycken/Contour.jl.git\n"
       ]
      },
      {
       "output_type": "stream",
       "stream": "stderr",
       "text": [
        "INFO: Cloning cache of DataArrays from git://github.com/JuliaStats/DataArrays.jl.git\n"
       ]
      },
      {
       "output_type": "stream",
       "stream": "stderr",
       "text": [
        "INFO: Cloning cache of DataFrames from git://github.com/JuliaStats/DataFrames.jl.git\n"
       ]
      },
      {
       "output_type": "stream",
       "stream": "stderr",
       "text": [
        "INFO: Cloning cache of DataStructures from git://github.com/JuliaLang/DataStructures.jl.git\n"
       ]
      },
      {
       "output_type": "stream",
       "stream": "stderr",
       "text": [
        "INFO: Cloning cache of Datetime from git://github.com/quinnj/Datetime.jl.git\n"
       ]
      },
      {
       "output_type": "stream",
       "stream": "stderr",
       "text": [
        "INFO: Cloning cache of Distance from git://github.com/JuliaStats/Distance.jl.git\n"
       ]
      },
      {
       "output_type": "stream",
       "stream": "stderr",
       "text": [
        "INFO: Cloning cache of Distributions from git://github.com/JuliaStats/Distributions.jl.git\n"
       ]
      },
      {
       "output_type": "stream",
       "stream": "stderr",
       "text": [
        "INFO: Cloning cache of FixedPointNumbers from git://github.com/JeffBezanson/FixedPointNumbers.jl.git\n"
       ]
      },
      {
       "output_type": "stream",
       "stream": "stderr",
       "text": [
        "INFO: Cloning cache of GZip from git://github.com/JuliaLang/GZip.jl.git\n"
       ]
      },
      {
       "output_type": "stream",
       "stream": "stderr",
       "text": [
        "INFO: Cloning cache of Gadfly from git://github.com/dcjones/Gadfly.jl.git\n"
       ]
      },
      {
       "output_type": "stream",
       "stream": "stderr",
       "text": [
        "INFO: Cloning cache of Hexagons from git://github.com/dcjones/Hexagons.jl.git\n"
       ]
      },
      {
       "output_type": "stream",
       "stream": "stderr",
       "text": [
        "INFO: Cloning cache of ImmutableArrays from git://github.com/twadleigh/ImmutableArrays.jl.git\n"
       ]
      },
      {
       "output_type": "stream",
       "stream": "stderr",
       "text": [
        "INFO: Cloning cache of Iterators from git://github.com/JuliaLang/Iterators.jl.git\n"
       ]
      },
      {
       "output_type": "stream",
       "stream": "stderr",
       "text": [
        "INFO: Cloning cache of KernelDensity from git://github.com/JuliaStats/KernelDensity.jl.git\n"
       ]
      },
      {
       "output_type": "stream",
       "stream": "stderr",
       "text": [
        "INFO: Cloning cache of Loess from git://github.com/dcjones/Loess.jl.git\n"
       ]
      },
      {
       "output_type": "stream",
       "stream": "stderr",
       "text": [
        "INFO: Cloning cache of PDMats from git://github.com/JuliaStats/PDMats.jl.git\n"
       ]
      },
      {
       "output_type": "stream",
       "stream": "stderr",
       "text": [
        "INFO: Cloning cache of Reexport from git://github.com/simonster/Reexport.jl.git\n"
       ]
      },
      {
       "output_type": "stream",
       "stream": "stderr",
       "text": [
        "INFO: Cloning cache of SortingAlgorithms from git://github.com/JuliaLang/SortingAlgorithms.jl.git\n"
       ]
      },
      {
       "output_type": "stream",
       "stream": "stderr",
       "text": [
        "INFO: Cloning cache of StatsBase from git://github.com/JuliaStats/StatsBase.jl.git\n"
       ]
      },
      {
       "output_type": "stream",
       "stream": "stderr",
       "text": [
        "INFO: Installing ArrayViews v0.4.6\n"
       ]
      },
      {
       "output_type": "stream",
       "stream": "stderr",
       "text": [
        "INFO: Installing Codecs v0.1.2\n"
       ]
      },
      {
       "output_type": "stream",
       "stream": "stderr",
       "text": [
        "INFO: Installing Color v0.3.3\n"
       ]
      },
      {
       "output_type": "stream",
       "stream": "stderr",
       "text": [
        "INFO: Installing Compose v0.3.6\n"
       ]
      },
      {
       "output_type": "stream",
       "stream": "stderr",
       "text": [
        "INFO: Installing Contour v0.0.2\n"
       ]
      },
      {
       "output_type": "stream",
       "stream": "stderr",
       "text": [
        "INFO: Installing DataArrays v0.2.0\n"
       ]
      },
      {
       "output_type": "stream",
       "stream": "stderr",
       "text": [
        "INFO: Installing DataFrames v0.5.7\n"
       ]
      },
      {
       "output_type": "stream",
       "stream": "stderr",
       "text": [
        "INFO: Installing DataStructures v0.3.1\n"
       ]
      },
      {
       "output_type": "stream",
       "stream": "stderr",
       "text": [
        "INFO: Installing Datetime v0.1.6\n"
       ]
      },
      {
       "output_type": "stream",
       "stream": "stderr",
       "text": [
        "INFO: Installing Distance v0.4.0\n"
       ]
      },
      {
       "output_type": "stream",
       "stream": "stderr",
       "text": [
        "INFO: Installing Distributions v0.5.4\n"
       ]
      },
      {
       "output_type": "stream",
       "stream": "stderr",
       "text": [
        "INFO: Installing FixedPointNumbers v0.0.2\n"
       ]
      },
      {
       "output_type": "stream",
       "stream": "stderr",
       "text": [
        "INFO: Installing GZip v0.2.13\n"
       ]
      },
      {
       "output_type": "stream",
       "stream": "stderr",
       "text": [
        "INFO: Installing Gadfly v0.3.6\n"
       ]
      },
      {
       "output_type": "stream",
       "stream": "stderr",
       "text": [
        "INFO: Installing Hexagons v0.0.2\n"
       ]
      },
      {
       "output_type": "stream",
       "stream": "stderr",
       "text": [
        "INFO: Installing ImmutableArrays v0.0.6\n"
       ]
      },
      {
       "output_type": "stream",
       "stream": "stderr",
       "text": [
        "INFO: Installing Iterators v0.1.6\n"
       ]
      },
      {
       "output_type": "stream",
       "stream": "stderr",
       "text": [
        "INFO: Installing KernelDensity v0.0.2\n"
       ]
      },
      {
       "output_type": "stream",
       "stream": "stderr",
       "text": [
        "INFO: Installing Loess v0.0.2\n"
       ]
      },
      {
       "output_type": "stream",
       "stream": "stderr",
       "text": [
        "INFO: Installing PDMats v0.2.4\n"
       ]
      },
      {
       "output_type": "stream",
       "stream": "stderr",
       "text": [
        "INFO: Installing Reexport v0.0.1\n"
       ]
      },
      {
       "output_type": "stream",
       "stream": "stderr",
       "text": [
        "INFO: Installing SortingAlgorithms v0.0.1\n"
       ]
      },
      {
       "output_type": "stream",
       "stream": "stderr",
       "text": [
        "INFO: Installing StatsBase v0.6.3\n"
       ]
      },
      {
       "output_type": "stream",
       "stream": "stderr",
       "text": [
        "INFO: Building Datetime\n"
       ]
      },
      {
       "output_type": "stream",
       "stream": "stderr",
       "text": [
        "INFO: Package database updated\n"
       ]
      },
      {
       "output_type": "stream",
       "stream": "stderr",
       "text": [
        "INFO: Cloning Processing from git://github.com/rennis250/Processing.jl.git\n"
       ]
      },
      {
       "output_type": "stream",
       "stream": "stderr",
       "text": [
        "INFO: Computing changes...\n"
       ]
      },
      {
       "output_type": "stream",
       "stream": "stderr",
       "text": [
        "INFO: Cloning cache of Cairo from git://github.com/JuliaLang/Cairo.jl.git\n"
       ]
      },
      {
       "output_type": "stream",
       "stream": "stderr",
       "text": [
        "INFO: Cloning cache of GLFW from git://github.com/JuliaGL/GLFW.jl.git\n"
       ]
      },
      {
       "output_type": "stream",
       "stream": "stderr",
       "text": [
        "INFO: Cloning cache of Gtk from git://github.com/JuliaLang/Gtk.jl.git\n"
       ]
      },
      {
       "output_type": "stream",
       "stream": "stderr",
       "text": [
        "INFO: Cloning cache of Tau from git://github.com/Aerlinger/Tau.jl.git\n"
       ]
      },
      {
       "output_type": "stream",
       "stream": "stderr",
       "text": [
        "INFO: Cloning cache of Tk from git://github.com/JuliaLang/Tk.jl.git\n"
       ]
      },
      {
       "output_type": "stream",
       "stream": "stderr",
       "text": [
        "INFO: Installing Cairo v0.2.16\n"
       ]
      },
      {
       "output_type": "stream",
       "stream": "stderr",
       "text": [
        "INFO: Installing GLFW v1.0.0-alpha.3\n"
       ]
      },
      {
       "output_type": "stream",
       "stream": "stderr",
       "text": [
        "INFO: Installing Gtk v0.7.3\n"
       ]
      },
      {
       "output_type": "stream",
       "stream": "stderr",
       "text": [
        "INFO: Installing Tau v0.0.3\n"
       ]
      },
      {
       "output_type": "stream",
       "stream": "stderr",
       "text": [
        "INFO: Installing Tk v0.2.13\n"
       ]
      },
      {
       "output_type": "stream",
       "stream": "stderr",
       "text": [
        "INFO: Building LibCURL\n"
       ]
      },
      {
       "output_type": "stream",
       "stream": "stderr",
       "text": [
        "INFO: Updating WinRPM package list\n"
       ]
      },
      {
       "output_type": "stream",
       "stream": "stderr",
       "text": [
        "INFO: Downloading http://download.opensuse.org/repositories/windows:/mingw:/win32/openSUSE_13.1//repodata/repomd.xml\n"
       ]
      },
      {
       "output_type": "stream",
       "stream": "stderr",
       "text": [
        "INFO: Downloading http://download.opensuse.org/repositories/windows:/mingw:/win64/openSUSE_13.1//repodata/repomd.xml\n"
       ]
      },
      {
       "output_type": "stream",
       "stream": "stderr",
       "text": [
        "INFO: Building WinRPM\n"
       ]
      },
      {
       "output_type": "stream",
       "stream": "stderr",
       "text": [
        "INFO: Downloading http://download.opensuse.org/repositories/windows:/mingw:/win32/openSUSE_13.1//repodata/repomd.xml\n",
        "INFO: Downloading http://download.opensuse.org/repositories/windows:/mingw:/win64/openSUSE_13.1//repodata/repomd.xml\n"
       ]
      },
      {
       "output_type": "stream",
       "stream": "stderr",
       "text": [
        "INFO: Building Cairo\n"
       ]
      },
      {
       "output_type": "stream",
       "stream": "stderr",
       "text": [
        "INFO: Packages to install: libglib-2_0-0, libffi6, glib2-lang, libgobject-2_0-0, glib2\n"
       ]
      },
      {
       "output_type": "stream",
       "stream": "stderr",
       "text": [
        "INFO: Downloading: libglib-2_0-0\n"
       ]
      },
      {
       "output_type": "stream",
       "stream": "stderr",
       "text": [
        "INFO: Extracting: libglib-2_0-0\n"
       ]
      },
      {
       "output_type": "stream",
       "stream": "stderr",
       "text": [
        "INFO: Downloading: libffi6\n"
       ]
      },
      {
       "output_type": "stream",
       "stream": "stderr",
       "text": [
        "INFO: Extracting: libffi6\n"
       ]
      },
      {
       "output_type": "stream",
       "stream": "stderr",
       "text": [
        "INFO: Downloading: glib2-lang\n"
       ]
      },
      {
       "output_type": "stream",
       "stream": "stderr",
       "text": [
        "INFO: Extracting: glib2-lang\n"
       ]
      },
      {
       "output_type": "stream",
       "stream": "stderr",
       "text": [
        "INFO: Downloading: libgobject-2_0-0\n"
       ]
      },
      {
       "output_type": "stream",
       "stream": "stderr",
       "text": [
        "INFO: Extracting: libgobject-2_0-0\n"
       ]
      },
      {
       "output_type": "stream",
       "stream": "stderr",
       "text": [
        "INFO: Downloading: glib2\n",
        "INFO: Extracting: glib2\n"
       ]
      },
      {
       "output_type": "stream",
       "stream": "stderr",
       "text": [
        "INFO: Complete\n",
        "INFO: Packages to install: libxml2-2, libfreetype6, libpixman-1-0, libpng16-16, fontconfig, libharfbuzz0, libcairo2\n"
       ]
      },
      {
       "output_type": "stream",
       "stream": "stderr",
       "text": [
        "INFO: Downloading: libxml2-2\n"
       ]
      },
      {
       "output_type": "stream",
       "stream": "stderr",
       "text": [
        "INFO: Extracting: libxml2-2\n",
        "INFO: Downloading: libfreetype6\n"
       ]
      },
      {
       "output_type": "stream",
       "stream": "stderr",
       "text": [
        "INFO: Extracting: libfreetype6\n",
        "INFO: Downloading: libpixman-1-0\n"
       ]
      },
      {
       "output_type": "stream",
       "stream": "stderr",
       "text": [
        "INFO: Extracting: libpixman-1-0\n",
        "INFO: Downloading: libpng16-16\n",
        "INFO: Extracting: libpng16-16\n"
       ]
      },
      {
       "output_type": "stream",
       "stream": "stderr",
       "text": [
        "INFO: Downloading: fontconfig\n"
       ]
      },
      {
       "output_type": "stream",
       "stream": "stderr",
       "text": [
        "INFO: Extracting: fontconfig\n"
       ]
      },
      {
       "output_type": "stream",
       "stream": "stderr",
       "text": [
        "INFO: Downloading: libharfbuzz0\n"
       ]
      },
      {
       "output_type": "stream",
       "stream": "stderr",
       "text": [
        "INFO: Extracting: libharfbuzz0\n"
       ]
      },
      {
       "output_type": "stream",
       "stream": "stderr",
       "text": [
        "INFO: Downloading: libcairo2\n"
       ]
      },
      {
       "output_type": "stream",
       "stream": "stderr",
       "text": [
        "INFO: Extracting: libcairo2\n",
        "INFO: Complete\n"
       ]
      },
      {
       "output_type": "stream",
       "stream": "stderr",
       "text": [
        "INFO: Packages to install: libgmodule-2_0-0, libpango-1_0-0\n",
        "INFO: Downloading: libgmodule-2_0-0\n"
       ]
      },
      {
       "output_type": "stream",
       "stream": "stderr",
       "text": [
        "INFO: Extracting: libgmodule-2_0-0\n",
        "INFO: Downloading: libpango-1_0-0\n"
       ]
      },
      {
       "output_type": "stream",
       "stream": "stderr",
       "text": [
        "INFO: Extracting: libpango-1_0-0\n",
        "INFO: Complete\n"
       ]
      },
      {
       "output_type": "stream",
       "stream": "stderr",
       "text": [
        "INFO: Building GLFW\n"
       ]
      },
      {
       "output_type": "stream",
       "stream": "stderr",
       "text": [
        "INFO: Downloading pre-compiled GLFW 3.0.4 32-bit binary\n"
       ]
      },
      {
       "output_type": "stream",
       "stream": "stdout",
       "text": [
        "\r\n",
        "7-Zip [64] 9.20  Copyright (c) 1999-2010 Igor Pavlov  2010-11-18\r\n",
        "\r\n",
        "Processing archive: downloads\\glfw-3.0.4.bin.WIN32.zip\r\n",
        "\r\n",
        "Extracting  glfw-3.0.4.bin.WIN32\r\n",
        "Extracting  glfw-3.0.4.bin.WIN32\\docs\r\n",
        "Extracting  glfw-3.0.4.bin.WIN32\\docs\\html\r\n",
        "Extracting  glfw-3.0.4.bin.WIN32\\docs\\html\\group__time.html\r\n",
        "Extracting  glfw-3.0.4.bin.WIN32\\docs\\html\\index.html\r\n",
        "Extracting  glfw-3.0.4.bin.WIN32\\docs\\html\\functions_vars.html\r\n",
        "Extracting  glfw-3.0.4.bin.WIN32\\docs\\html\\closed.png\r\n",
        "Extracting  glfw-3.0.4.bin.WIN32\\docs\\html\\globals_0x68.html\r\n",
        "Extracting  glfw-3.0.4.bin.WIN32\\docs\\html\\structGLFWgammaramp.html\r\n",
        "Extracting  glfw-3.0.4.bin.WIN32\\docs\\html\\dir_ced77f9823b212f18d14b97d44f17dc6.html\r\n",
        "Extracting  glfw-3.0.4.bin.WIN32\\docs\\html\\doxygen.css\r\n",
        "Extracting  glfw-3.0.4.bin.WIN32\\docs\\html\\globals_defs_0x62.html\r\n",
        "Extracting  glfw-3.0.4.bin.WIN32\\docs\\html\\ftv2lastnode.png\r\n",
        "Extracting  glfw-3.0.4.bin.WIN32\\docs\\html\\ftv2plastnode.png\r\n",
        "Extracting  glfw-3.0.4.bin.WIN32\\docs\\html\\globals_0x66.html\r\n",
        "Extracting  glfw-3.0.4.bin.WIN32\\docs\\html\\modules.html\r\n",
        "Extracting  glfw-3.0.4.bin.WIN32\\docs\\html\\globals_0x74.html\r\n",
        "Extracting  glfw-3.0.4.bin.WIN32\\docs\\html\\dynsections.js\r\n",
        "Extracting  glfw-3.0.4.bin.WIN32\\docs\\html\\files.html\r\n",
        "Extracting  glfw-3.0.4.bin.WIN32\\docs\\html\\group__clipboard.html\r\n",
        "Extracting  glfw-3.0.4.bin.WIN32\\docs\\html\\ftv2mnode.png\r\n",
        "Extracting  glfw-3.0.4.bin.WIN32\\docs\\html\\pages.html\r\n",
        "Extracting  glfw-3.0.4.bin.WIN32\\docs\\html\\group__errors.html\r\n",
        "Extracting  glfw-3.0.4.bin.WIN32\\docs\\html\\monitor.html\r\n",
        "Extracting  glfw-3.0.4.bin.WIN32\\docs\\html\\globals_defs_0x6c.html\r\n",
        "Extracting  glfw-3.0.4.bin.WIN32\\docs\\html\\nav_g.png\r\n",
        "Extracting  glfw-3.0.4.bin.WIN32\\docs\\html\\ftv2mo.png\r\n",
        "Extracting  glfw-3.0.4.bin.WIN32\\docs\\html\\globals_defs_0x6a.html\r\n",
        "Extracting  glfw-3.0.4.bin.WIN32\\docs\\html\\ftv2splitbar.png\r\n",
        "Extracting  glfw-3.0.4.bin.WIN32\\docs\\html\\dir_2ed3966b92992331bf8a66a32e738cef.html\r\n",
        "Extracting  glfw-3.0.4.bin.WIN32\\docs\\html\\sync_on.png\r\n",
        "Extracting  glfw-3.0.4.bin.WIN32\\docs\\html\\globals_0x6a.html\r\n",
        "Extracting  glfw-3.0.4.bin.WIN32\\docs\\html\\build_8dox.html\r\n",
        "Extracting  glfw-3.0.4.bin.WIN32\\docs\\html\\globals_0x63.html\r\n",
        "Extracting  glfw-3.0.4.bin.WIN32\\docs\\html\\globals_0x77.html\r\n",
        "Extracting  glfw-3.0.4.bin.WIN32\\docs\\html\\nav_f.png\r\n",
        "Extracting  glfw-3.0.4.bin.WIN32\\docs\\html\\tab_h.png\r\n",
        "Extracting  glfw-3.0.4.bin.WIN32\\docs\\html\\quick.html\r\n",
        "Extracting  glfw-3.0.4.bin.WIN32\\docs\\html\\group__mods.html\r\n",
        "Extracting  glfw-3.0.4.bin.WIN32\\docs\\html\\build.html\r\n",
        "Extracting  glfw-3.0.4.bin.WIN32\\docs\\html\\group__context.html\r\n",
        "Extracting  glfw-3.0.4.bin.WIN32\\docs\\html\\bug.html\r\n",
        "Extracting  glfw-3.0.4.bin.WIN32\\docs\\html\\globals_defs_0x76.html\r\n",
        "Extracting  glfw-3.0.4.bin.WIN32\\docs\\html\\ftv2pnode.png\r\n",
        "Extracting  glfw-3.0.4.bin.WIN32\\docs\\html\\globals_0x62.html\r\n",
        "Extracting  glfw-3.0.4.bin.WIN32\\docs\\html\\globals_0x64.html\r\n",
        "Extracting  glfw-3.0.4.bin.WIN32\\docs\\html\\dir_85715018e387ccbec8815d3563c0262a.html\r\n",
        "Extracting  glfw-3.0.4.bin.WIN32\\docs\\html\\globals.html\r\n",
        "Extracting  glfw-3.0.4.bin.WIN32\\docs\\html\\group__error.html\r\n",
        "Extracting  glfw-3.0.4.bin.WIN32\\docs\\html\\ftv2doc.png\r\n",
        "Extracting  glfw-3.0.4.bin.WIN32\\docs\\html\\context_8dox.html\r\n",
        "Extracting  glfw-3.0.4.bin.WIN32\\docs\\html\\ftv2ns.png\r\n",
        "Extracting  glfw-3.0.4.bin.WIN32\\docs\\html\\globals_0x70.html\r\n",
        "Extracting  glfw-3.0.4.bin.WIN32\\docs\\html\\classes.html\r\n",
        "Extracting  glfw-3.0.4.bin.WIN32\\docs\\html\\globals_0x65.html\r\n",
        "Extracting  glfw-3.0.4.bin.WIN32\\docs\\html\\globals_0x6e.html\r\n",
        "Extracting  glfw-3.0.4.bin.WIN32\\docs\\html\\news.html\r\n",
        "Extracting  glfw-3.0.4.bin.WIN32\\docs\\html\\globals_0x72.html\r\n",
        "Extracting  glfw-3.0.4.bin.WIN32\\docs\\html\\globals_func.html\r\n",
        "Extracting  glfw-3.0.4.bin.WIN32\\docs\\html\\glfw3native_8h_source.html\r\n",
        "Extracting  glfw-3.0.4.bin.WIN32\\docs\\html\\globals_0x76.html\r\n",
        "Extracting  glfw-3.0.4.bin.WIN32\\docs\\html\\doxygen.png\r\n",
        "Extracting  glfw-3.0.4.bin.WIN32\\docs\\html\\globals_0x6d.html\r\n",
        "Extracting  glfw-3.0.4.bin.WIN32\\docs\\html\\globals_0x69.html\r\n",
        "Extracting  glfw-3.0.4.bin.WIN32\\docs\\html\\ftv2blank.png\r\n",
        "Extracting  glfw-3.0.4.bin.WIN32\\docs\\html\\compile.html\r\n",
        "Extracting  glfw-3.0.4.bin.WIN32\\docs\\html\\tab_b.png\r\n",
        "Extracting  g"
       ]
      },
      {
       "output_type": "stream",
       "stream": "stdout",
       "text": [
        "lfw-3.0.4.bin.WIN32\\docs\\html\\compat.html\r\n",
        "Extracting  glfw-3.0.4.bin.WIN32\\docs\\html\\tab_s.png\r\n",
        "Extracting  glfw-3.0.4.bin.WIN32\\docs\\html\\globals_defs_0x6e.html\r\n",
        "Extracting  glfw-3.0.4.bin.WIN32\\docs\\html\\globals_type.html\r\n",
        "Extracting  glfw-3.0.4.bin.WIN32\\docs\\html\\globals_0x73.html\r\n",
        "Extracting  glfw-3.0.4.bin.WIN32\\docs\\html\\annotated.html\r\n",
        "Extracting  glfw-3.0.4.bin.WIN32\\docs\\html\\compile_8dox.html\r\n",
        "Extracting  glfw-3.0.4.bin.WIN32\\docs\\html\\open.png\r\n",
        "Extracting  glfw-3.0.4.bin.WIN32\\docs\\html\\group__input.html\r\n",
        "Extracting  glfw-3.0.4.bin.WIN32\\docs\\html\\compat_8dox.html\r\n",
        "Extracting  glfw-3.0.4.bin.WIN32\\docs\\html\\group__init.html\r\n",
        "Extracting  glfw-3.0.4.bin.WIN32\\docs\\html\\globals_defs.html\r\n",
        "Extracting  glfw-3.0.4.bin.WIN32\\docs\\html\\globals_defs_0x69.html\r\n",
        "Extracting  glfw-3.0.4.bin.WIN32\\docs\\html\\globals_defs_0x64.html\r\n",
        "Extracting  glfw-3.0.4.bin.WIN32\\docs\\html\\group__joysticks.html\r\n",
        "Extracting  glfw-3.0.4.bin.WIN32\\docs\\html\\group__buttons.html\r\n",
        "Extracting  glfw-3.0.4.bin.WIN32\\docs\\html\\globals_d"
       ]
      },
      {
       "output_type": "stream",
       "stream": "stdout",
       "text": [
        "efs_0x6d.html\r\n",
        "Extracting  glfw-3.0.4.bin.WIN32\\docs\\html\\glfw3native_8h.html\r\n",
        "Extracting  glfw-3.0.4.bin.WIN32\\docs\\html\\monitor_8dox.html\r\n",
        "Extracting  glfw-3.0.4.bin.WIN32\\docs\\html\\ftv2link.png\r\n",
        "Extracting  glfw-3.0.4.bin.WIN32\\docs\\html\\window.html\r\n",
        "Extracting  glfw-3.0.4.bin.WIN32\\docs\\html\\globals_defs_0x70.html\r\n",
        "Extracting  glfw-3.0.4.bin.WIN32\\docs\\html\\globals_defs_0x72.html\r\n",
        "Extracting  glfw-3.0.4.bin.WIN32\\docs\\html\\globals_0x6f.html\r\n",
        "Extracting  glfw-3.0.4.bin.WIN32\\docs\\html\\functions.html\r\n",
        "Extracting  glfw-3.0.4.bin.WIN32\\docs\\html\\tabs.css\r\n",
        "Extracting  glfw-3.0.4.bin.WIN32\\docs\\html\\ftv2node.png\r\n",
        "Extracting  glfw-3.0.4.bin.WIN32\\docs\\html\\globals_0x6c.html\r\n",
        "Extracting  glfw-3.0.4.bin.WIN32\\docs\\html\\ftv2folderclosed.png\r\n",
        "Extracting  glfw-3.0.4.bin.WIN32\\docs\\html\\news_8dox.html\r\n",
        "Extracting  glfw-3.0.4.bin.WIN32\\docs\\html\\sync_off.png\r\n",
        "Extracting  glfw-3.0.4.bin.WIN32\\docs\\html\\moving_8dox.html\r\n",
        "Extracting  glfw-3.0.4.bin.WIN32\\docs\\html\\moving.html\r\n",
        "Extracting  glfw-3.0.4.bin.WIN32\\docs\\html\\globals_defs_0x66.html\r\n",
        "Extracting  glfw-3.0.4.bin.WIN32\\docs\\html\\group__keys.html\r\n",
        "Extracting  glfw-3.0.4.bin.WIN32\\docs\\html\\globals_defs_0x6b.html\r\n",
        "Extracting  glfw-3.0.4.bin.WIN32\\docs\\html\\ftv2cl.png\r\n",
        "Extracting  glfw-3.0.4.bin.WIN32\\docs\\html\\ftv2mlastnode.png\r\n",
        "Extracting  glfw-3.0.4.bin.WIN32\\docs\\html\\tab_a.png\r\n",
        "Extracting  glfw-3.0.4.bin.WIN32\\docs\\html\\context.html\r\n",
        "Extracting  glfw-3.0.4.bin.WIN32\\docs\\html\\group__monitor.html\r\n",
        "Extracting  glfw-3.0.4.bin.WIN32\\docs\\html\\ftv2folderopen.png\r\n",
        "Extracting  glfw-3.0.4.bin.WIN32\\docs\\html\\ftv2vertline.png\r\n",
        "Extracting  glfw-3.0.4.bin.WIN32\\docs\\html\\globals_defs_0x73.html\r\n",
        "Extracting  glfw-3.0.4.bin.WIN32\\docs\\html\\globals_defs_0x6f.html\r\n",
        "Extracting  glfw-3.0.4.bin.WIN32\\docs\\html\\extra.css\r\n",
        "Extracting  glfw-3.0.4.bin.WIN32\\docs\\html\\window_8dox.html\r\n",
        "Extracting  glfw-3.0.4.bin.WIN32\\docs\\html\\globals_0x6b.html\r\n",
        "Extracting  glfw-3.0.4.bin.WIN32\\docs\\html\\quick_8dox.html\r\n",
        "Extracting  glfw-3.0.4.bin.WIN32\\docs\\html\\globals_defs_0x63.html\r\n",
        "Extracting  glfw-3.0.4.bin.WIN32\\docs\\html\\bdwn.png\r\n",
        "Extracting  glfw-3.0.4.bin.WIN32\\docs\\html\\main_8dox.html\r\n",
        "Extracting  glfw-3.0.4.bin.WIN32\\docs\\html\\glfw3_8h.html\r\n",
        "Extracting  glfw-3.0.4.bin.WIN32\\docs\\html\\search\r\n",
        "Extracting  glfw-3.0.4.bin.WIN32\\docs\\html\\search\\all_68.js\r\n",
        "Extracting  glfw-3.0.4.bin.WIN32\\docs\\html\\search\\nomatches.html\r\n",
        "Extracting  glfw-3.0.4.bin.WIN32\\docs\\html\\search\\defines_67.js\r\n",
        "Extracting  glfw-3.0.4.bin.WIN32\\docs\\html\\search\\files_6d.js\r\n",
        "Extracting  glfw-3.0.4.bin.WIN32\\docs\\html\\search\\pages_63.js\r\n",
        "Extracting  glfw-3.0.4.bin.WIN32\\docs\\html\\search\\typedefs_67.js\r\n",
        "Extracting  glfw-3.0.4.bin.WIN32\\docs\\html\\search\\pages_77.html\r\n",
        "Extracting  glfw-3.0.4.bin.WIN32\\docs\\html\\search\\variables_77.html\r\n",
        "Extracting  glfw-3.0.4.bin.WIN32\\docs\\html\\search\\groups_77.html\r\n",
        "Extracting  glfw-3.0.4.bin.WIN32\\docs\\html\\search\\all_63.html\r\n",
        "Extracting  glfw-3.0.4.bin.WIN32\\docs\\html\\search\\variables_62.js\r\n",
        "Extracting  glfw-3.0.4.bin.WIN32\\docs\\html\\search\\all_74.js\r\n",
        "Extracting  glfw-3.0.4.bin.WIN32\\docs\\html\\search\\all_6b.html\r\n",
        "Extracting  glfw-3.0.4.bin.WIN32\\docs\\html\\search\\pa"
       ]
      },
      {
       "output_type": "stream",
       "stream": "stdout",
       "text": [
        "ges_6d.html\r\n",
        "Extracting  glfw-3.0.4.bin.WIN32\\docs\\html\\search\\all_71.html\r\n",
        "Extracting  glfw-3.0.4.bin.WIN32\\docs\\html\\search\\files_63.html\r\n",
        "Extracting  glfw-3.0.4.bin.WIN32\\docs\\html\\search\\variables_67.html\r\n",
        "Extracting  glfw-3.0.4.bin.WIN32\\docs\\html\\search\\pages_62.html\r\n",
        "Extracting  glfw-3.0.4.bin.WIN32\\docs\\html\\search\\all_77.js\r\n",
        "Extracting  glfw-3.0.4.bin.WIN32\\docs\\html\\search\\all_6e.html\r\n",
        "Extracting  glfw-3.0.4.bin.WIN32\\docs\\html\\search\\groups_63.html\r\n",
        "Extracting  glfw-3.0.4.bin.WIN32\\docs\\html\\search\\pages_6e.js\r\n",
        "Extracting  glfw-3.0.4.bin.WIN32\\docs\\html\\search\\typedefs_67.html\r\n",
        "Extracting  glfw-3.0.4.bin.WIN32\\docs\\html\\search\\groups_6a.js\r\n",
        "Extracting  glfw-3.0.4.bin.WIN32\\docs\\html\\search\\close.png\r\n",
        "Extracting  glfw-3.0.4.bin.WIN32\\docs\\html\\search\\search.css\r\n",
        "Extracting  glfw-3.0.4.bin.WIN32\\docs\\html\\search\\all_71.js\r\n",
        "Extracting  glfw-3.0.4.bin.WIN32\\docs\\html\\search\\all_67.html\r\n",
        "Extracting  glfw-3.0.4.bin.WIN32\\docs\\html\\search\\all_6a.js\r\n",
        "Extracting  glfw-3.0.4.bin.WIN32\\docs\\html\\search\\mag_sel.png\r\n",
        "Extracting  glfw-3.0.4.bin.WIN32\\docs\\html\\search\\pages_67.html\r\n",
        "Extracting  glfw-3.0.4.bin.WIN32\\docs\\html\\search\\files_67.js\r\n",
        "Extracting  glfw-3.0.4.bin.WIN32\\docs\\html\\search\\groups_74.html\r\n",
        "Extracting  glfw-3.0.4.bin.WIN32\\docs\\html\\search\\variables_72.html\r\n",
        "Extracting  glfw-3.0.4.bin.WIN32\\docs\\html\\search\\defines_67.html\r\n",
        "Extracting  glfw-3.0.4.bin.WIN32\\docs\\html\\search\\files_71.html\r\n",
        "Extracting  glfw-3.0.4.bin.WIN32\\docs\\html\\search\\search_m.png\r\n",
        "Extracting  glfw-3.0.4.bin.WIN32\\docs\\html\\search\\all_62.js\r\n",
        "Extracting  glfw-3.0.4.bin.WIN32\\docs\\html\\search\\all_77.html\r\n",
        "Extracting  glfw-3.0.4.bin.WIN32\\docs\\html\\search\\all_62.html\r\n",
        "Extracting  glfw-3.0.4.bin.WIN32\\docs\\html\\search\\variables_73.js\r\n",
        "Extracting  glfw-3.0.4.bin.WIN32\\docs\\html\\search\\variables_73.html\r\n",
        "Extracting  glfw-3.0.4.bin.WIN32\\docs\\html\\search\\groups_69.html\r\n",
        "Extracting  glfw-3.0.4.bin.WIN32\\docs\\html\\search\\pages_6d.js\r\n",
        "Extracting  glfw-3.0.4.bin.WIN32\\docs\\html\\search\\all_6d.js\r\n",
        "Extracting  glfw-3.0.4.bin.WIN32\\docs\\html\\search\\groups_6b.html\r\n",
        "Extracting  glfw-3.0.4.bin.WIN32\\docs\\html\\search\\variables_77.js\r\n",
        "Extracting  glfw-3.0.4.bin.WIN32\\docs\\html\\search\\all_65.html\r\n",
        "Extracting  glfw-3.0.4.bin.WIN32\\docs\\html\\search\\files_77.js\r\n",
        "Extracting  glfw-3.0.4.bin.WIN32\\docs\\html\\search\\pages_6e.html\r\n",
        "Extracting  glfw-3.0.4.bin.WIN32\\docs\\html\\search\\groups_63.js\r\n",
        "Extracting  glfw-3.0.4.bin.WIN32\\docs\\html\\search\\all_68.html\r\n",
        "Extracting  glfw-3.0.4.bin.WIN32\\docs\\html\\search\\files_67.html\r\n",
        "Extracting  glfw-3.0.4.bin.WIN32\\docs\\html\\search\\variables_68.js\r\n",
        "Extracting  glfw-3.0.4.bin.WIN32\\docs\\html\\search\\all_63.js\r\n",
        "Extracting  glfw-3.0.4.bin.WIN32\\docs\\html\\search\\variables_72.js\r\n",
        "Extracting  glfw-3.0.4.bin.WIN32\\docs\\html\\search\\pages_73.js\r\n",
        "Extracting  glfw-3.0.4.bin.WIN32\\docs\\html\\search\\functions_67.js\r\n",
        "Extracting  glfw-3.0.4.bin.WIN32\\docs\\html\\search\\files_6e.js\r\n",
        "Extracting  glfw-3.0.4.bin.WIN32\\docs\\html\\search\\all_69.js\r\n",
        "Extracting  glfw-3.0.4.bin.WIN32\\docs\\html\\search\\files_63.js\r\n",
        "Extracting  glfw-3.0.4.bin.WIN32\\docs\\html\\search\\all_67.js\r\n",
        "Extracting  glfw-3.0.4.bin.WIN32\\docs\\html\\search\\classes_67.html\r\n",
        "Extracting  glfw-3.0.4.bin.WIN32\\docs\\html\\search\\groups_65.js\r\n",
        "Extracting  glfw-3.0.4.bin.WIN32\\docs\\html\\search\\pages_77.js\r\n",
        "Extracting  glfw-3.0.4.bin.WIN32\\docs\\html\\search\\files_6d.html\r\n",
        "Extracting  glfw-3.0.4.bin.WIN32\\docs\\html\\search\\variables_62.html\r\n",
        "Extracting  glfw-3.0.4.bin.WIN32\\docs\\html\\search\\files_77.html\r\n",
        "Extracting  glfw-3.0.4.bin.WIN32\\docs\\html\\search\\groups_6d.html\r\n",
        "Extracting  glfw-3.0.4.bin.WIN32\\docs\\html\\search\\pages_62.js\r\n",
        "Extracting  glfw-3.0.4.bin.WIN32\\docs\\html\\search\\variables_67.js\r\n",
        "Extracting  glfw-3.0.4.bin.WIN32\\docs\\html\\search\\all_6b.js\r\n",
        "Extracting  glfw-3.0.4.bin.WIN32\\docs\\html\\search\\groups_74.js\r\n",
        "Extracting  glfw-3.0.4.bin.WIN32\\docs\\html\\search\\all_72.js\r\n",
        "Extracting  glfw-3.0.4.bin.WIN32\\docs\\html\\search\\all_73.js\r\n",
        "Extracting  glfw-3.0.4.bin.WIN32\\docs\\html\\search\\groups_65.html\r\n",
        "Extracting  glfw-3.0.4.bin.WIN32\\docs\\html\\search\\functions_67.html\r\n",
        "Extracting  glfw-3.0.4.bin.WIN32\\docs\\html\\search\\files_6e.html\r\n",
        "Extracting  glfw-3.0.4.bin.WIN32\\"
       ]
      },
      {
       "output_type": "stream",
       "stream": "stdout",
       "text": [
        "docs\\html\\search\\pages_63.html\r\n",
        "Extracting  glfw-3.0.4.bin.WIN32\\docs\\html\\search\\search_l.png\r\n",
        "Extracting  glfw-3.0.4.bin.WIN32\\docs\\html\\search\\all_6d.html\r\n",
        "Extracting  glfw-3.0.4.bin.WIN32\\docs\\html\\search\\groups_6d.js\r\n",
        "Extracting  glfw-3.0.4.bin.WIN32\\docs\\html\\search\\files_62.js\r\n",
        "Extracting  glfw-3.0.4.bin.WIN32\\docs\\html\\search\\search.js\r\n",
        "Extracting  glfw-3.0.4.bin.WIN32\\docs\\html\\search\\search_r.png\r\n",
        "Extracting  glfw-3.0.4.bin.WIN32\\docs\\html\\search\\groups_69.js\r\n",
        "Extracting  glfw-3.0.4.bin.WIN32\\docs\\html\\search\\groups_6e.html\r\n",
        "Extracting  glfw-3.0.4.bin.WIN32\\docs\\html\\search\\pages_67.js\r\n",
        "Extracting  glfw-3.0.4.bin.WIN32\\docs\\html\\search\\variables_68.html\r\n",
        "Extracting  glfw-3.0.4.bin.WIN32\\docs\\html\\search\\groups_6e.js\r\n",
        "Extracting  glfw-3.0.4.bin.WIN32\\docs\\html\\search\\all_6e.js\r\n",
        "Extracting  glfw-3.0.4.bin.WIN32\\docs\\html\\search\\groups_6b.js\r\n",
        "Extracting  glfw-3.0.4.bin.WIN32\\docs\\html\\search\\files_71.js\r\n",
        "Extracting  glfw-3.0.4.bin.WIN32\\docs\\html\\search\\classes_67.js\r\n",
        "Extracting  glfw-3.0.4.bin.WIN32\\docs\\html\\search\\groups_77.js\r\n",
        "Extracting  glfw-3.0.4.bin.WIN32\\docs\\html\\search\\groups_6a.html\r\n",
        "Extracting  glfw-3.0.4.bin.WIN32\\docs\\html\\search\\all_73.html\r\n",
        "Extracting  glfw-3.0.4.bin.WIN32\\docs\\html\\search\\all_6a.html\r\n",
        "Extracting  glfw-3.0.4.bin.WIN32\\docs\\html\\search\\files_62.html\r\n",
        "Extracting  glfw-3.0.4.bin.WIN32\\docs\\html\\search\\all_72.html\r\n",
        "Extracting  glfw-3.0.4.bin.WIN32\\docs\\html\\search\\all_69.html\r\n",
        "Extracting  glfw-3.0.4.bin.WIN32\\docs\\html\\search\\all_74.html\r\n",
        "Extracting  glfw-3.0.4.bin.WIN32\\docs\\html\\search\\pages_73.html\r\n",
        "Extracting  glfw-3.0.4.bin.WIN32\\docs\\html\\search\\all_65.js\r\n",
        "Extracting  glfw-3.0.4.bin.WIN32\\docs\\html\\bc_s.png\r\n",
        "Extracting  glfw-3.0.4.bin.WIN32\\docs\\html\\globals_0x67.html\r\n",
        "Extracting  glfw-3.0.4.bin.WIN32\\docs\\html\\structGLFWvidmode.html\r\n",
        "Extracting  glfw-3.0.4.bin.WIN32\\docs\\html\\group__native.html\r\n",
        "Extracting  glfw-3.0.4.bin.WIN32\\docs\\html\\nav_h.png\r\n",
        "Extracting  glfw-3.0.4.bin.WIN32\\docs\\html\\jquery.js\r\n",
        "Extracting  glfw-3.0.4.bin.WIN32\\docs\\html\\glfw3_8h_source.html\r\n",
        "Extracting  glfw-3.0.4.bin.WIN32\\docs\\html\\group__window.html\r\n",
        "Extracting  glfw-3.0.4.bin.WIN32\\docs\\html\\globals_defs_0x67.html\r\n",
        "Extracting  glfw-3.0.4.bin.WIN32\\lib-msvc120\r\n",
        "Extracting  glfw-3.0.4.bin.WIN32\\lib-msvc120\\glfw3.dll\r\n",
        "Extracting  glfw-3.0.4.bin.WIN32\\lib-msvc120\\glfw3.lib\r\n",
        "Extracting  glfw-3.0.4.bin.WIN32\\lib-msvc120\\glfw3dll.lib\r\n",
        "Extracting  glfw-3.0.4.bin.WIN32\\COPYING.txt\r\n",
        "Extracting  glfw-3.0.4.bin.WIN32\\include\r\n",
        "Extracting  glfw-3.0.4.bin.WIN32\\include\\GLFW\r\n",
        "Extracting  glfw-3.0.4.bin.WIN32\\include\\GLFW\\glfw3native.h\r\n",
        "Extracting  glfw-3.0.4.bin.WIN32\\include\\GLFW\\glfw3.h\r\n",
        "Extracting  glfw-3.0.4.bin.WIN32\\lib-mingw\r\n",
        "Extracting  glfw-3.0.4.bin.WIN32\\lib-mingw\\glfw3.dll\r\n",
        "Extracting  glfw-3.0.4.bin.WIN32\\lib-mingw\\libglfw3.a\r\n",
        "Extracting  glfw-3.0.4.bin.WIN32\\lib-mingw\\glfw3dll.a\r\n",
        "Extracting  glfw-3.0.4.bin.WIN32\\lib-msvc110\r\n",
        "Extracting  glfw-3.0.4.bin.WIN32\\lib-msvc110\\glfw3.dll\r\n",
        "Extracting  glfw-3.0.4.bin.WIN32\\lib-msvc110\\glfw3.lib\r\n",
        "Extracting  glfw-3.0.4.bin.WIN32\\lib-msvc110\\glfw3dll.lib\r\n",
        "\r\n",
        "Everything is Ok\r\n",
        "\r\n",
        "Folders: 9\r\n",
        "Files: 242\r\n",
        "Size:       2519647\r\n",
        "Compressed: 684231\r\n"
       ]
      },
      {
       "output_type": "stream",
       "stream": "stderr",
       "text": [
        "INFO: Downloading pre-compiled GLFW 3.0.4 64-bit binary\n"
       ]
      },
      {
       "output_type": "stream",
       "stream": "stdout",
       "text": [
        "\r\n",
        "7-Zip [64] 9.20  Copyright (c) 1999-2010 Igor Pavlov  2010-11-18\r\n",
        "\r\n",
        "Processing archive: downloads\\glfw-3.0.4.bin.WIN64.zip\r\n",
        "\r\n",
        "Extracting  glfw-3.0.4.bin.WIN64\r\n",
        "Extracting  glfw-3.0.4.bin.WIN64\\docs\r\n",
        "Extracting  glfw-3.0.4.bin.WIN64\\docs\\html\r\n",
        "Extracting  glfw-3.0.4.bin.WIN64\\docs\\html\\group__time.html\r\n",
        "Extracting  glfw-3.0.4.bin.WIN64\\docs\\html\\index.html\r\n",
        "Extracting  glfw-3.0.4.bin.WIN64\\docs\\html\\functions_vars.html\r\n",
        "Extracting  glfw-3.0.4.bin.WIN64\\docs\\html\\closed.png\r\n",
        "Extracting  glfw-3.0.4.bin.WIN64\\docs\\html\\globals_0x68.html\r\n",
        "Extracting  glfw-3.0.4.bin.WIN64\\docs\\html\\structGLFWgammaramp.html\r\n",
        "Extracting  glfw-3.0.4.bin.WIN64\\docs\\html\\dir_ced77f9823b212f18d14b97d44f17dc6.html\r\n",
        "Extracting  glfw-3.0.4.bin.WIN64\\docs\\html\\doxygen.css\r\n",
        "Extracting  glfw-3.0.4.bin.WIN64\\docs\\html\\globals_defs_0x62.html\r\n",
        "Extracting  glfw-3.0.4.bin.WIN64\\docs\\html\\ftv2lastnode.png\r\n",
        "Extracting  glfw-3.0.4.bin.WIN64\\docs\\html\\ftv2plastnode.png\r\n",
        "Extracting  glfw-3.0.4.bin.WIN64\\docs\\html\\globals_0x66.html\r\n",
        "Extracting  glfw-3.0.4.bin.WIN64\\docs\\html\\modules.html\r\n",
        "Extracting  glfw-3.0.4.bin.WIN64\\docs\\html\\globals_0x74.html\r\n",
        "Extracting  glfw-3.0.4.bin.WIN64\\docs\\html\\dynsections.js\r\n",
        "Extracting  glfw-3.0.4.bin.WIN64\\docs\\html\\files.html\r\n",
        "Extracting  glfw-3.0.4.bin.WIN64\\docs\\html\\group__clipboard.html\r\n",
        "Extracting  glfw-3.0.4.bin.WIN64\\docs\\html\\ftv2mnode.png\r\n",
        "Extracting  glfw-3.0.4.bin.WIN64\\docs\\html\\pages.html\r\n",
        "Extracting  glfw-3.0.4.bin.WIN64\\docs\\html\\group__errors.html\r\n",
        "Extracting  glfw-3.0.4.bin.WIN64\\docs\\html\\monitor.html\r\n",
        "Extracting  glfw-3.0.4.bin.WIN64\\docs\\html\\globals_defs_0x6c.html\r\n",
        "Extracting  glfw-3.0.4.bin.WIN64\\docs\\html\\nav_g.png\r\n",
        "Extracting  glfw-3.0.4.bin.WIN64\\docs\\html\\ftv2mo.png\r\n",
        "Extracting  glfw-3.0.4.bin.WIN64\\docs\\html\\globals_defs_0x6a.html\r\n",
        "Extracting  glfw-3.0.4.bin.WIN64\\docs\\html\\ftv2splitbar.png\r\n",
        "Extracting  glfw-3.0.4.bin.WIN64\\docs\\html\\dir_2ed3966b92992331bf8a66a32e738cef.html\r\n",
        "Extracting  glfw-3.0.4.bin.WIN64\\docs\\html\\sync_on.png\r\n",
        "Extracting  glfw-3.0.4.bin.WIN64\\docs\\html\\globals_0x6a.html\r\n",
        "Extracting  glfw-3.0.4.bin.WIN64\\docs\\html\\build_8dox.html\r\n",
        "Extracting  glfw-3.0.4.bin.WIN64\\docs\\html\\globals_0x63.html\r\n",
        "Extracting  glfw-3.0.4.bin.WIN64\\docs\\html\\globals_0x77.html\r\n",
        "Extracting  glfw-3.0.4.bin.WIN64\\docs\\html\\nav_f.png\r\n",
        "Extracting  glfw-3.0.4.bin.WIN64\\docs\\html\\tab_h.png\r\n",
        "Extracting  glfw-3.0.4.bin.WIN64\\docs\\html\\quick.html\r\n",
        "Extracting  glfw-3.0.4.bin.WIN64\\docs\\html\\group__mods.html\r\n",
        "Extracting  glfw-3.0.4.bin.WIN64\\docs\\html\\build.html\r\n",
        "Extracting  glfw-3.0.4.bin.WIN64\\docs\\html\\group__context.html\r\n",
        "Extracting  glfw-3.0.4.bin.WIN64\\docs\\html\\bug.html\r\n",
        "Extracting  glfw-3.0.4.bin.WIN64\\docs\\html\\globals_defs_0x76.html\r\n",
        "Extracting  glfw-3.0.4.bin.WIN64\\docs\\html\\ftv2pnode.png\r\n",
        "Extracting  glfw-3.0.4.bin.WIN64\\docs\\html\\globals_0x62.html\r\n",
        "Extracting  glfw-3.0.4.bin.WIN64\\docs\\html\\globals_0x64.html\r\n",
        "Extracting  glfw-3.0.4.bin.WIN64\\docs\\html\\dir_85715018e387ccbec8815d3563c0262a.html\r\n",
        "Extracting  glfw-3.0.4.bin.WIN64\\docs\\html\\globals.html\r\n",
        "Extracting  glfw-3.0.4.bin.WIN64\\docs\\html\\group__error.html\r\n",
        "Extracting  glfw-3.0.4.bin.WIN64\\docs\\html\\ftv2doc.png\r\n",
        "Extracting  glfw-3.0.4.bin.WIN64\\docs\\html\\context_8dox.html\r\n",
        "Extracting  glfw-3.0.4.bin.WIN64\\docs\\html\\ftv2ns.png\r\n",
        "Extracting  glfw-3.0.4.bin.WIN64\\docs\\html\\globals_0x70.html\r\n",
        "Extracting  glfw-3.0.4.bin.WIN64\\docs\\html\\classes.html\r\n",
        "Extracting  glfw-3.0.4.bin.WIN64\\docs\\html\\globals_0x65.html\r\n",
        "Extracting  glfw-3.0.4.bin.WIN64\\docs\\html\\globals_0x6e.html\r\n",
        "Extracting  glfw-3.0.4.bin.WIN64\\docs\\html\\news.html\r\n",
        "Extracting  glfw-3.0.4.bin.WIN64\\docs\\html\\globals_0x72.html\r\n",
        "Extracting  glfw-3.0.4.bin.WIN64\\docs\\html\\globals_func.html\r\n",
        "Extracting  glfw-3.0.4.bin.WIN64\\docs\\html\\glfw3native_8h_source.html\r\n",
        "Extracting  glfw-3.0.4.bin.WIN64\\docs\\html\\globals_0x76.html\r\n",
        "Extracting  glfw-3.0.4.bin.WIN64\\docs\\html\\doxygen.png\r\n",
        "Extracting  glfw-3.0.4.bin.WIN64\\docs\\html\\globals_0x6d.html\r\n",
        "Extracting  glfw-3.0.4.bin.WIN64\\docs\\html\\globals_0x69.html\r\n",
        "Extracting  glfw-3.0.4.bin.WIN64\\docs\\html\\ftv2blank.png\r\n",
        "Extracting  glfw-3.0.4.bin.WIN64\\docs\\html\\compile.html\r\n",
        "Extracting  glfw-3.0.4.bin.WIN64\\docs\\html\\tab_b.png\r\n",
        "Extracting  g"
       ]
      },
      {
       "output_type": "stream",
       "stream": "stdout",
       "text": [
        "lfw-3.0.4.bin.WIN64\\docs\\html\\compat.html\r\n",
        "Extracting  glfw-3.0.4.bin.WIN64\\docs\\html\\tab_s.png\r\n",
        "Extracting  glfw-3.0.4.bin.WIN64\\docs\\html\\globals_defs_0x6e.html\r\n",
        "Extracting  glfw-3.0.4.bin.WIN64\\docs\\html\\globals_type.html\r\n",
        "Extracting  glfw-3.0.4.bin.WIN64\\docs\\html\\globals_0x73.html\r\n",
        "Extracting  glfw-3.0.4.bin.WIN64\\docs\\html\\annotated.html\r\n",
        "Extracting  glfw-3.0.4.bin.WIN64\\docs\\html\\compile_8dox.html\r\n",
        "Extracting  glfw-3.0.4.bin.WIN64\\docs\\html\\open.png\r\n",
        "Extracting  glfw-3.0.4.bin.WIN64\\docs\\html\\group__input.html\r\n",
        "Extracting  glfw-3.0.4.bin.WIN64\\docs\\html\\compat_8dox.html\r\n",
        "Extracting  glfw-3.0.4.bin.WIN64\\docs\\html\\group__init.html\r\n",
        "Extracting  glfw-3.0.4.bin.WIN64\\docs\\html\\globals_defs.html\r\n",
        "Extracting  glfw-3.0.4.bin.WIN64\\docs\\html\\globals_defs_0x69.html\r\n",
        "Extracting  glfw-3.0.4.bin.WIN64\\docs\\html\\globals_defs_0x64.html\r\n",
        "Extracting  glfw-3.0.4.bin.WIN64\\docs\\html\\group__joysticks.html\r\n",
        "Extracting  glfw-3.0.4.bin.WIN64\\docs\\html\\group__buttons.html\r\n",
        "Extracting  glfw-3.0.4.bin.WIN64\\docs\\html\\globals_defs_0x6d.html\r\n",
        "Extracting  glfw-3.0.4.bin.WIN64\\docs\\html\\glfw3native_8h.html\r\n",
        "Extracting  glfw-3.0.4.bin.WIN64\\docs\\html\\monitor_8dox.html\r\n",
        "Extracting  glfw-3.0.4.bin.WIN64\\docs\\html\\ftv2link.png\r\n",
        "Extracting  glfw-3.0.4.bin.WIN64\\docs\\html\\window.html\r\n",
        "Extracting  glfw-3.0.4.bin.WIN64\\docs\\html\\globals_defs_0x70.html\r\n",
        "Extracting  glfw-3.0.4.bin.WIN64\\docs\\html\\globals_defs_0x72.html\r\n",
        "Extracting  glfw-3.0.4.bin.WIN64\\docs\\html\\globals_0x6f.html\r\n",
        "Extracting  glfw-3.0.4.bin.WIN64\\docs\\html\\functions.html\r\n",
        "Extracting  glfw-3.0.4.bin.WIN64\\docs\\html\\tabs.css\r\n",
        "Extracting  glfw-3.0.4.bin.WIN64\\docs\\html\\ftv2node.png\r\n",
        "Extracting  glfw-3.0.4.bin.WIN64\\docs\\html\\globals_0x6c.html\r\n",
        "Extracting  glfw-3.0.4.bin.WIN64\\docs\\html\\ftv2folderclosed.png\r\n",
        "Extracting  glfw-3.0.4.bin.WIN64\\docs\\html\\news_8dox.html\r\n",
        "Extracting  glfw-3.0.4.bin.WIN64\\docs\\html\\sync_off.png\r\n",
        "Extracting  glfw-3.0.4.bin.WIN64\\docs\\html\\moving_8dox.html\r\n",
        "Extracting  glfw-3.0.4.bin.WIN64\\docs\\html\\moving.html\r\n",
        "Extracting  glfw-3.0.4.bin.WIN64\\docs\\html\\globals_defs_0x66.html\r\n",
        "Extracting  glfw-3.0.4.bin.WIN64\\docs\\html\\group__keys.html\r\n",
        "Extracting  glfw-3.0.4.bin.WIN64\\docs\\html\\globals_defs_0x6b.html\r\n",
        "Extracting  glfw-3.0.4.bin.WIN64\\docs\\html\\ftv2cl.png\r\n",
        "Extracting  glfw-3.0.4.bin.WIN64\\docs\\html\\ftv2mlastnode.png\r\n",
        "Extracting  glfw-3.0.4.bin.WIN64\\docs\\html\\tab_a.png\r\n",
        "Extracting  glfw-3.0.4.bin.WIN64\\docs\\html\\context.html\r\n",
        "Extracting  glfw-3.0.4.bin.WIN64\\docs\\html\\group__monitor.html\r\n",
        "Extracting  glfw-3.0.4.bin.WIN64\\docs\\html\\ftv2folderopen.png\r\n",
        "Extracting  glfw-3.0.4.bin.WIN64\\docs\\html\\ftv2vertline.png\r\n",
        "Extracting  glfw-3.0.4.bin.WIN64\\docs\\html\\globals_defs_0x73.html\r\n",
        "Extracting  glfw-3.0.4.bin.WIN64\\docs\\html\\globals_defs_0x6f.html\r\n",
        "Extracting  glfw-3.0.4.bin.WIN64\\docs\\html\\extra.css\r\n",
        "Extracting  glfw-3.0.4.bin.WIN64\\docs\\html\\window_8dox.html\r\n",
        "Extracting  glfw-3.0.4.bin.WIN64\\docs\\html\\globals_0x6b.html\r\n",
        "Extracting  glfw-3.0.4.bin.WIN64\\docs\\html\\quick_8dox.html\r\n",
        "Extracting  glfw-3.0.4.bin.WIN64\\docs\\html\\globals_defs_0x63.html\r\n",
        "Extracting  glfw-3.0.4.bin.WIN64\\docs\\html\\bdwn.png\r\n",
        "Extracting  glfw-3.0.4.bin.WIN64\\docs\\html\\main_8dox.html\r\n",
        "Extracting  glfw-3.0.4.bin.WIN64\\docs\\html\\glfw3_8h.html\r\n",
        "Extracting  glfw-3.0.4.bin.WIN64\\docs\\html\\search\r\n",
        "Extracting  glfw-3.0.4.bin.WIN64\\docs\\html\\search\\all_68.js\r\n",
        "Extracting  glfw-3.0.4.bin.WIN64\\docs\\html\\search\\nomatches.html\r\n",
        "Extracting  glfw-3.0.4.bin.WIN64\\docs\\html\\search\\defines_67.js\r\n",
        "Extracting  glfw-3.0.4.bin.WIN64\\docs\\html\\search\\files_6d.js\r\n",
        "Extracting  glfw-3.0.4.bin.WIN64\\docs\\html\\search\\pages_63.js\r\n",
        "Extracting  glfw-3.0.4.bin.WIN64\\docs\\html\\search\\typedefs_67.js\r\n",
        "Extracting  glfw-3.0.4.bin.WIN64\\docs\\html\\search\\pages_77.html\r\n",
        "Extracting  glfw-3.0.4.bin.WIN64\\docs\\html\\search\\variables_77.html\r\n",
        "Extracting  glfw-3.0.4.bin.WIN64\\docs\\html\\search\\groups_77.html\r\n",
        "Extracting  glfw-3.0.4.bin.WIN64\\docs\\html\\search\\all_63.html\r\n",
        "Extracting  glfw-3.0.4.bin.WIN64\\docs\\html\\search\\variables_62.js\r\n",
        "Extracting  glfw-3.0.4.bin.WIN64\\docs\\html\\search\\all_74.js\r\n",
        "Extracting  glfw-3.0.4.bin.WIN64\\docs\\html\\search\\all_6b.html\r\n",
        "Extracting  glfw-3.0.4.bin.WIN64\\docs\\html\\search\\pa"
       ]
      },
      {
       "output_type": "stream",
       "stream": "stdout",
       "text": [
        "ges_6d.html\r\n",
        "Extracting  glfw-3.0.4.bin.WIN64\\docs\\html\\search\\all_71.html\r\n",
        "Extracting  glfw-3.0.4.bin.WIN64\\docs\\html\\search\\files_63.html\r\n",
        "Extracting  glfw-3.0.4.bin.WIN64\\docs\\html\\search\\variables_67.html\r\n",
        "Extracting  glfw-3.0.4.bin.WIN64\\docs\\html\\search\\pages_62.html\r\n",
        "Extracting  glfw-3.0.4.bin.WIN64\\docs\\html\\search\\all_77.js\r\n",
        "Extracting  glfw-3.0.4.bin.WIN64\\docs\\html\\search\\all_6e.html\r\n",
        "Extracting  glfw-3.0.4.bin.WIN64\\docs\\html\\search\\groups_63.html\r\n",
        "Extracting  glfw-3.0.4.bin.WIN64\\docs\\html\\search\\pages_6e.js\r\n",
        "Extracting  glfw-3.0.4.bin.WIN64\\docs\\html\\search\\typedefs_67.html\r\n",
        "Extracting  glfw-3.0.4.bin.WIN64\\docs\\html\\search\\groups_6a.js\r\n",
        "Extracting  glfw-3.0.4.bin.WIN64\\docs\\html\\search\\close.png\r\n",
        "Extracting  glfw-3.0.4.bin.WIN64\\docs\\html\\search\\search.css\r\n",
        "Extracting  glfw-3.0.4.bin.WIN64\\docs\\html\\search\\all_71.js\r\n",
        "Extracting  glfw-3.0.4.bin.WIN64\\docs\\html\\search\\all_67.html\r\n",
        "Extracting  glfw-3.0.4.bin.WIN64\\docs\\html\\search\\all_6a.js\r\n",
        "Extracting  glfw-3.0.4.bin.WIN64\\docs\\html\\search\\mag_sel.png\r\n",
        "Extracting  glfw-3.0.4.bin.WIN64\\docs\\html\\search\\pages_67.html\r\n",
        "Extracting  glfw-3.0.4.bin.WIN64\\docs\\html\\search\\files_67.js\r\n",
        "Extracting  glfw-3.0.4.bin.WIN64\\docs\\html\\search\\groups_74.html\r\n",
        "Extracting  glfw-3.0.4.bin.WIN64\\docs\\html\\search\\variables_72.html\r\n",
        "Extracting  glfw-3.0.4.bin.WIN64\\docs\\html\\search\\defines_67.html\r\n",
        "Extracting  glfw-3.0.4.bin.WIN64\\docs\\html\\search\\files_71.html\r\n",
        "Extracting  glfw-3.0.4.bin.WIN64\\docs\\html\\search\\search_m.png\r\n",
        "Extracting  glfw-3.0.4.bin.WIN64\\docs\\html\\search\\all_62.js\r\n",
        "Extracting  glfw-3.0.4.bin.WIN64\\docs\\html\\search\\all_77.html\r\n",
        "Extracting  glfw-3.0.4.bin.WIN64\\docs\\html\\search\\all_62.html\r\n",
        "Extracting  glfw-3.0.4.bin.WIN64\\docs\\html\\search\\variables_73.js\r\n",
        "Extracting  glfw-3.0.4.bin.WIN64\\docs\\html\\search\\variables_73.html\r\n",
        "Extracting  glfw-3.0.4.bin.WIN64\\docs\\html\\search\\groups_69.html\r\n",
        "Extracting  glfw-3.0.4.bin.WIN64\\docs\\html\\search\\pages_6d.js\r\n",
        "Extracting  glfw-3.0.4.bin.WIN64\\docs\\html\\search\\all_6d.js\r\n",
        "Extracting  glfw-3.0.4.bin.WIN64\\docs\\html\\search\\groups_6b.html\r\n",
        "Extracting  glfw-3.0.4.bin.WIN64\\docs\\html\\search\\variables_77.js\r\n",
        "Extracting  glfw-3.0.4.bin.WIN64\\docs\\html\\search\\all_65.html\r\n",
        "Extracting  glfw-3.0.4.bin.WIN64\\docs\\html\\search\\files_77.js\r\n",
        "Extracting  glfw-3.0.4.bin.WIN64\\docs\\html\\search\\pages_6e.html\r\n",
        "Extracting  glfw-3.0.4.bin.WIN64\\docs\\html\\search\\groups_63.js\r\n",
        "Extracting  glfw-3.0.4.bin.WIN64\\docs\\html\\search\\all_68.html\r\n",
        "Extracting  glfw-3.0.4.bin.WIN64\\docs\\html\\search\\files_67.html\r\n",
        "Extracting  glfw-3.0.4.bin.WIN64\\docs\\html\\search\\variables_68.js\r\n",
        "Extracting  glfw-3.0.4.bin.WIN64\\docs\\html\\search\\all_63.js\r\n",
        "Extracting  glfw-3.0.4.bin.WIN64\\docs\\html\\search\\variables_72.js\r\n",
        "Extracting  glfw-3.0.4.bin.WIN64\\docs\\html\\search\\pages_73.js\r\n",
        "Extracting  glfw-3.0.4.bin.WIN64\\docs\\html\\search\\functions_67.js\r\n",
        "Extracting  glfw-3.0.4.bin.WIN64\\docs\\html\\search\\files_6e.js\r\n",
        "Extracting  glfw-3.0.4.bin.WIN64\\docs\\html\\search\\all_69.js\r\n",
        "Extracting  glfw-3.0.4.bin.WIN64\\docs\\html\\search\\files_63.js\r\n",
        "Extracting  glfw-3.0.4.bin.WIN64\\docs\\html\\search\\all_67.js\r\n",
        "Extracting  glfw-3.0.4.bin.WIN64\\docs\\html\\search\\classes_67.html\r\n",
        "Extracting  glfw-3.0.4.bin.WIN64\\docs\\html\\search\\groups_65.js\r\n",
        "Extracting  glfw-3.0.4.bin.WIN64\\docs\\html\\search\\pages_77.js\r\n",
        "Extracting  glfw-3.0.4.bin.WIN64\\docs\\html\\search\\files_6d.html\r\n",
        "Extracting  glfw-3.0.4.bin.WIN64\\docs\\html\\search\\variables_62.html\r\n",
        "Extracting  glfw-3.0.4.bin.WIN64\\docs\\html\\search\\files_77.html\r\n",
        "Extracting  glfw-3.0.4.bin.WIN64\\docs\\html\\search\\groups_6d.html\r\n",
        "Extracting  glfw-3.0.4.bin.WIN64\\docs\\html\\search\\pages_62.js\r\n",
        "Extracting  glfw-3.0.4.bin.WIN64\\docs\\html\\search\\variables_67.js\r\n",
        "Extracting  glfw-3.0.4.bin.WIN64\\docs\\html\\search\\all_6b.js\r\n",
        "Extracting  glfw-3.0.4.bin.WIN64\\docs\\html\\search\\groups_74.js\r\n",
        "Extracting  glfw-3.0.4.bin.WIN64\\docs\\html\\search\\all_72.js\r\n",
        "Extracting  glfw-3.0.4.bin.WIN64\\docs\\html\\search\\all_73.js\r\n",
        "Extracting  glfw-3.0.4.bin.WIN64\\docs\\html\\search\\groups_65.html\r\n",
        "Extracting  glfw-3.0.4.bin.WIN64\\docs\\html\\search\\functions_67.html\r\n",
        "Extracting  glfw-3.0.4.bin.WIN64\\docs\\html\\search\\files_6e.html\r\n",
        "Extracting  glfw-3.0.4.bin.WIN64\\"
       ]
      },
      {
       "output_type": "stream",
       "stream": "stdout",
       "text": [
        "docs\\html\\search\\pages_63.html\r\n",
        "Extracting  glfw-3.0.4.bin.WIN64\\docs\\html\\search\\search_l.png\r\n",
        "Extracting  glfw-3.0.4.bin.WIN64\\docs\\html\\search\\all_6d.html\r\n",
        "Extracting  glfw-3.0.4.bin.WIN64\\docs\\html\\search\\groups_6d.js\r\n",
        "Extracting  glfw-3.0.4.bin.WIN64\\docs\\html\\search\\files_62.js\r\n",
        "Extracting  glfw-3.0.4.bin.WIN64\\docs\\html\\search\\search.js\r\n",
        "Extracting  glfw-3.0.4.bin.WIN64\\docs\\html\\search\\search_r.png\r\n",
        "Extracting  glfw-3.0.4.bin.WIN64\\docs\\html\\search\\groups_69.js\r\n",
        "Extracting  glfw-3.0.4.bin.WIN64\\docs\\html\\search\\groups_6e.html\r\n",
        "Extracting  glfw-3.0.4.bin.WIN64\\docs\\html\\search\\pages_67.js\r\n",
        "Extracting  glfw-3.0.4.bin.WIN64\\docs\\html\\search\\variables_68.html\r\n",
        "Extracting  glfw-3.0.4.bin.WIN64\\docs\\html\\search\\groups_6e.js\r\n",
        "Extracting  glfw-3.0.4.bin.WIN64\\docs\\html\\search\\all_6e.js\r\n",
        "Extracting  glfw-3.0.4.bin.WIN64\\docs\\html\\search\\groups_6b.js\r\n",
        "Extracting  glfw-3.0.4.bin.WIN64\\docs\\html\\search\\files_71.js\r\n",
        "Extracting  glfw-3.0.4.bin.WIN64\\docs\\html\\search\\classes_67.js\r\n",
        "Extracting  glfw-3.0.4.bin.WIN64\\docs\\html\\search\\groups_77.js\r\n",
        "Extracting  glfw-3.0.4.bin.WIN64\\docs\\html\\search\\groups_6a.html\r\n",
        "Extracting  glfw-3.0.4.bin.WIN64\\docs\\html\\search\\all_73.html\r\n",
        "Extracting  glfw-3.0.4.bin.WIN64\\docs\\html\\search\\all_6a.html\r\n",
        "Extracting  glfw-3.0.4.bin.WIN64\\docs\\html\\search\\files_62.html\r\n",
        "Extracting  glfw-3.0.4.bin.WIN64\\docs\\html\\search\\all_72.html\r\n",
        "Extracting  glfw-3.0.4.bin.WIN64\\docs\\html\\search\\all_69.html\r\n",
        "Extracting  glfw-3.0.4.bin.WIN64\\docs\\html\\search\\all_74.html\r\n",
        "Extracting  glfw-3.0.4.bin.WIN64\\docs\\html\\search\\pages_73.html\r\n",
        "Extracting  glfw-3.0.4.bin.WIN64\\docs\\html\\search\\all_65.js\r\n",
        "Extracting  glfw-3.0.4.bin.WIN64\\docs\\html\\bc_s.png\r\n",
        "Extracting  glfw-3.0.4.bin.WIN64\\docs\\html\\globals_0x67.html\r\n",
        "Extracting  glfw-3.0.4.bin.WIN64\\docs\\html\\structGLFWvidmode.html\r\n",
        "Extracting  glfw-3.0.4.bin.WIN64\\docs\\html\\group__native.html\r\n",
        "Extracting  glfw-3.0.4.bin.WIN64\\docs\\html\\nav_h.png\r\n",
        "Extracting  glfw-3.0.4.bin.WIN64\\docs\\html\\jquery.js\r\n",
        "Extracting  glfw-3.0.4.bin.WIN64\\docs\\html\\glfw3_8h_source.html\r\n",
        "Extracting  glfw-3.0.4.bin.WIN64\\docs\\html\\group__window.html\r\n",
        "Extracting  glfw-3.0.4.bin.WIN64\\docs\\html\\globals_defs_0x67.html\r\n",
        "Extracting  glfw-3.0.4.bin.WIN64\\lib-msvc120\r\n",
        "Extracting  glfw-3.0.4.bin.WIN64\\lib-msvc120\\glfw3.dll\r\n",
        "Extracting  glfw-3.0.4.bin.WIN64\\lib-msvc120\\glfw3.lib\r\n",
        "Extracting  glfw-3.0.4.bin.WIN64\\lib-msvc120\\glfw3dll.lib\r\n",
        "Extracting  glfw-3.0.4.bin.WIN64\\COPYING.txt\r\n",
        "Extracting  glfw-3.0.4.bin.WIN64\\include\r\n",
        "Extracting  glfw-3.0.4.bin.WIN64\\include\\GLFW\r\n",
        "Extracting  glfw-3.0.4.bin.WIN64\\include\\GLFW\\glfw3native.h\r\n",
        "Extracting  glfw-3.0.4.bin.WIN64\\include\\GLFW\\glfw3.h\r\n",
        "Extracting  glfw-3.0.4.bin.WIN64\\lib-mingw\r\n",
        "Extracting  glfw-3.0.4.bin.WIN64\\lib-mingw\\glfw3.dll\r\n",
        "Extracting  glfw-3.0.4.bin.WIN64\\lib-mingw\\libglfw3.a\r\n",
        "Extracting  glfw-3.0.4.bin.WIN64\\lib-mingw\\glfw3dll.a\r\n",
        "Extracting  glfw-3.0.4.bin.WIN64\\lib-msvc110\r\n",
        "Extracting  glfw-3.0.4.bin.WIN64\\lib-msvc110\\glfw3.dll\r\n",
        "Extracting  glfw-3.0.4.bin.WIN64\\lib-msvc110\\glfw3.lib\r\n",
        "Extracting  glfw-3.0.4.bin.WIN64\\lib-msvc110\\glfw3dll.lib\r\n",
        "\r\n",
        "Everything is Ok\r\n",
        "\r\n",
        "Folders: 9\r\n",
        "Files: 242\r\n",
        "Size:       2676325\r\n",
        "Compressed: 727846\r\n"
       ]
      },
      {
       "output_type": "stream",
       "stream": "stderr",
       "text": [
        "INFO: Building Gtk\n"
       ]
      },
      {
       "output_type": "stream",
       "stream": "stderr",
       "text": [
        "INFO: Packages to install: liblzma5, libjpeg8, libjasper1, libtiff5, libgdk_pixbuf-2_0-0, libatk-1_0-0, gtk3-lang, gtk3-data, libgio-2_0-0, libcairo-gobject2, gtk3\n"
       ]
      },
      {
       "output_type": "stream",
       "stream": "stderr",
       "text": [
        "INFO: Downloading: liblzma5\n"
       ]
      },
      {
       "output_type": "stream",
       "stream": "stderr",
       "text": [
        "INFO: Extracting: liblzma5\n",
        "INFO: Downloading: libjpeg8\n"
       ]
      },
      {
       "output_type": "stream",
       "stream": "stderr",
       "text": [
        "INFO: Extracting: libjpeg8\n",
        "INFO: Downloading: libjasper1\n"
       ]
      },
      {
       "output_type": "stream",
       "stream": "stderr",
       "text": [
        "INFO: Extracting: libjasper1\n",
        "INFO: Downloading: libtiff5\n"
       ]
      },
      {
       "output_type": "stream",
       "stream": "stderr",
       "text": [
        "INFO: Extracting: libtiff5\n",
        "INFO: Downloading: libgdk_pixbuf-2_0-0\n"
       ]
      },
      {
       "output_type": "stream",
       "stream": "stderr",
       "text": [
        "INFO: Extracting: libgdk_pixbuf-2_0-0\n",
        "INFO: Downloading: libatk-1_0-0\n"
       ]
      },
      {
       "output_type": "stream",
       "stream": "stderr",
       "text": [
        "INFO: Extracting: libatk-1_0-0\n",
        "INFO: Downloading: gtk3-lang\n"
       ]
      },
      {
       "output_type": "stream",
       "stream": "stderr",
       "text": [
        "INFO: Extracting: gtk3-lang\n"
       ]
      },
      {
       "output_type": "stream",
       "stream": "stderr",
       "text": [
        "INFO: Downloading: gtk3-data\n"
       ]
      },
      {
       "output_type": "stream",
       "stream": "stderr",
       "text": [
        "INFO: Extracting: gtk3-data\n"
       ]
      },
      {
       "output_type": "stream",
       "stream": "stderr",
       "text": [
        "INFO: Downloading: libgio-2_0-0\n"
       ]
      },
      {
       "output_type": "stream",
       "stream": "stderr",
       "text": [
        "INFO: Extracting: libgio-2_0-0\n"
       ]
      },
      {
       "output_type": "stream",
       "stream": "stderr",
       "text": [
        "INFO: Downloading: libcairo-gobject2\n"
       ]
      },
      {
       "output_type": "stream",
       "stream": "stderr",
       "text": [
        "INFO: Extracting: libcairo-gobject2\n",
        "INFO: Downloading: gtk3\n"
       ]
      },
      {
       "output_type": "stream",
       "stream": "stderr",
       "text": [
        "INFO: Extracting: gtk3\n"
       ]
      },
      {
       "output_type": "stream",
       "stream": "stderr",
       "text": [
        "INFO: Complete\n"
       ]
      },
      {
       "output_type": "stream",
       "stream": "stderr",
       "text": [
        "INFO: Building Tk\n"
       ]
      },
      {
       "output_type": "stream",
       "stream": "stderr",
       "text": [
        "INFO: Packages to install: tcl\n"
       ]
      },
      {
       "output_type": "stream",
       "stream": "stderr",
       "text": [
        "INFO: Downloading: tcl\n"
       ]
      },
      {
       "output_type": "stream",
       "stream": "stderr",
       "text": [
        "INFO: Extracting: tcl\n"
       ]
      },
      {
       "output_type": "stream",
       "stream": "stderr",
       "text": [
        "INFO: Complete\n"
       ]
      },
      {
       "output_type": "stream",
       "stream": "stderr",
       "text": [
        "INFO: Packages to install: tk\n"
       ]
      },
      {
       "output_type": "stream",
       "stream": "stderr",
       "text": [
        "INFO: Downloading: tk\n"
       ]
      },
      {
       "output_type": "stream",
       "stream": "stderr",
       "text": [
        "INFO: Extracting: tk\n"
       ]
      },
      {
       "output_type": "stream",
       "stream": "stderr",
       "text": [
        "INFO: Complete\n"
       ]
      },
      {
       "output_type": "stream",
       "stream": "stderr",
       "text": [
        "INFO: Cloning cache of Arduino from git://github.com/rennis250/Arduino.jl.git\n"
       ]
      },
      {
       "output_type": "stream",
       "stream": "stderr",
       "text": [
        "INFO: Cloning cache of GetC from git://github.com/rennis250/GetC.jl.git\n"
       ]
      },
      {
       "output_type": "stream",
       "stream": "stderr",
       "text": [
        "INFO: Installing Arduino v0.1.2\n"
       ]
      },
      {
       "output_type": "stream",
       "stream": "stderr",
       "text": [
        "INFO: Installing GetC v1.1.1\n"
       ]
      },
      {
       "output_type": "stream",
       "stream": "stderr",
       "text": [
        "INFO: Package database updated\n"
       ]
      }
     ],
     "prompt_number": 2
    },
    {
     "cell_type": "code",
     "collapsed": false,
     "input": [],
     "language": "python",
     "metadata": {},
     "outputs": []
    }
   ],
   "metadata": {}
  }
 ]
}